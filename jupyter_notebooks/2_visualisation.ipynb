{
 "cells": [
  {
   "cell_type": "markdown",
   "metadata": {},
   "source": [
    "## Data visualisation"
   ]
  },
  {
   "cell_type": "markdown",
   "metadata": {},
   "source": [
    "### Objectives:\n",
    "* Business requirement - 1:<br>\"The client is interested in having a capability to differentiate visually 'healthy', 'bleached' and 'dead' corals\""
   ]
  },
  {
   "cell_type": "markdown",
   "metadata": {},
   "source": [
    "### Inputs:\n",
    "* inputs/corals-dataset/Dataset/test\n",
    "* inputs/corals-dataset/Dataset/train\n",
    "* inputs/corals-dataset/Dataset/validation\n"
   ]
  },
  {
   "cell_type": "markdown",
   "metadata": {},
   "source": [
    "### Outputs:\n",
    "# !!!Cell to be revised!!!\n",
    "* Image shape embeddings pickle file.\n",
    "* Mean and variability of images per label plot.\n",
    "* Plot to distinguish the contrast between parasite-contained and uninfected cell images.\n",
    "* Generate code that answers business requirement 1 and can be used to build an image montage on the Streamlit dashboard."
   ]
  },
  {
   "cell_type": "markdown",
   "metadata": {},
   "source": [
    "---"
   ]
  },
  {
   "cell_type": "markdown",
   "metadata": {},
   "source": [
    "## Set data directory"
   ]
  },
  {
   "cell_type": "markdown",
   "metadata": {},
   "source": [
    "#### Importing libraries"
   ]
  },
  {
   "cell_type": "code",
   "execution_count": 8,
   "metadata": {},
   "outputs": [],
   "source": [
    "import os\n",
    "import pandas as pd\n",
    "import numpy as np\n",
    "import matplotlib.pyplot as plt\n",
    "import seaborn as sns\n",
    "import joblib\n",
    "sns.set_style(\"white\")\n",
    "from matplotlib.image import imread"
   ]
  },
  {
   "cell_type": "markdown",
   "metadata": {},
   "source": [
    "#### Set working directory"
   ]
  },
  {
   "cell_type": "code",
   "execution_count": 2,
   "metadata": {},
   "outputs": [
    {
     "name": "stdout",
     "output_type": "stream",
     "text": [
      "You new current directory is set\n"
     ]
    },
    {
     "data": {
      "text/plain": [
       "'/workspace/corals_health'"
      ]
     },
     "execution_count": 2,
     "metadata": {},
     "output_type": "execute_result"
    }
   ],
   "source": [
    "cwd= os.getcwd()\n",
    "os.chdir('/workspace/corals_health')\n",
    "print(\"You new current directory is set\")\n",
    "work_dir = os.getcwd()\n",
    "work_dir"
   ]
  },
  {
   "cell_type": "markdown",
   "metadata": {},
   "source": [
    "#### Define pathes for 'test', 'train' and 'validation' data folders "
   ]
  },
  {
   "cell_type": "code",
   "execution_count": 12,
   "metadata": {},
   "outputs": [
    {
     "name": "stdout",
     "output_type": "stream",
     "text": [
      "inputs/corals-dataset/Dataset/train\n",
      "inputs/corals-dataset/Dataset/validation\n",
      "inputs/corals-dataset/Dataset/test\n"
     ]
    }
   ],
   "source": [
    "my_data_dir = 'inputs/corals-dataset/Dataset'\n",
    "train_path = my_data_dir + '/train'\n",
    "val_path = my_data_dir + '/validation'\n",
    "test_path = my_data_dir + '/test'\n",
    "print(train_path)\n",
    "print(val_path)\n",
    "print(test_path)"
   ]
  },
  {
   "cell_type": "markdown",
   "metadata": {},
   "source": [
    "### Set output directory"
   ]
  },
  {
   "cell_type": "code",
   "execution_count": 4,
   "metadata": {},
   "outputs": [],
   "source": [
    "version = 'v1'\n",
    "file_path = f'outputs/{version}'\n",
    "\n",
    "if 'outputs' in os.listdir(work_dir) and version in os.listdir(work_dir + '/outputs'):\n",
    "    print('Old version is already available create a new version.')\n",
    "    pass\n",
    "else:\n",
    "    os.makedirs(name=file_path)"
   ]
  },
  {
   "cell_type": "markdown",
   "metadata": {},
   "source": [
    "##### Set lable names"
   ]
  },
  {
   "cell_type": "code",
   "execution_count": 13,
   "metadata": {},
   "outputs": [
    {
     "name": "stdout",
     "output_type": "stream",
     "text": [
      "inputs/corals-dataset/Dataset/train\n",
      "Label for the images are ['Bleached', 'Dead', 'Healthy']\n"
     ]
    }
   ],
   "source": [
    "print(train_path)\n",
    "labels = os.listdir(train_path)\n",
    "print('Label for the images are', labels)"
   ]
  },
  {
   "cell_type": "markdown",
   "metadata": {},
   "source": [
    "### Visualisation of image data"
   ]
  },
  {
   "cell_type": "markdown",
   "metadata": {},
   "source": [
    "##### Average image size in the 'train' set"
   ]
  },
  {
   "cell_type": "code",
   "execution_count": 24,
   "metadata": {},
   "outputs": [
    {
     "data": {
      "image/png": "[encoded data removed]",
      "text/plain": [
       "<Figure size 640x480 with 1 Axes>"
      ]
     },
     "metadata": {},
     "output_type": "display_data"
    },
    {
     "name": "stdout",
     "output_type": "stream",
     "text": [
      "Width average: 227 \n",
      "Height average: 227\n",
      "You have 2 graiscale images in your train dataset\n"
     ]
    }
   ],
   "source": [
    "dim1, dim2 = [], []\n",
    "grayscales = 0\n",
    "for label in labels:\n",
    "    for image_filename in os.listdir(train_path + '/' + label):\n",
    "        img = imread(train_path + '/' + label + '/' + image_filename)\n",
    "        if len(img.shape) == 3:\n",
    "            d1, d2, colors = img.shape\n",
    "        elif len(img.shape) == 2: # The image is graiscale\n",
    "            d1, d2 = img.shape\n",
    "            grayscales += 1            \n",
    "            colors = 1\n",
    "        else:\n",
    "            raise ValueError('Unexpected image shape!')\n",
    "        dim1.append(d1)  # image height\n",
    "        dim2.append(d2)  # image width\n",
    "\n",
    "sns.set_style(\"whitegrid\")\n",
    "fig, axes = plt.subplots()\n",
    "sns.scatterplot(x=dim2, y=dim1, alpha=0.2)\n",
    "axes.set_xlabel(\"Width (pixels)\")\n",
    "axes.set_ylabel(\"Height (pixels)\")\n",
    "dim1_mean = int(np.array(dim1).mean())\n",
    "dim2_mean = int(np.array(dim2).mean())\n",
    "axes.axvline(x=dim1_mean, color='r', linestyle='--')\n",
    "axes.axhline(y=dim2_mean, color='r', linestyle='--')\n",
    "plt.show()\n",
    "print(f\"Width average: {dim2_mean} \\nHeight average: {dim1_mean}\")\n",
    "print(f\"You have {grayscales} graiscale images in your train dataset\")"
   ]
  },
  {
   "cell_type": "code",
   "execution_count": null,
   "metadata": {},
   "outputs": [],
   "source": []
  }
 ],
 "metadata": {
  "kernelspec": {
   "display_name": "Python 3",
   "language": "python",
   "name": "python3"
  },
  "language_info": {
   "codemirror_mode": {
    "name": "ipython",
    "version": 3
   },
   "file_extension": ".py",
   "mimetype": "text/x-python",
   "name": "python",
   "nbconvert_exporter": "python",
   "pygments_lexer": "ipython3",
   "version": "3.8.18"
  }
 },
 "nbformat": 4,
 "nbformat_minor": 2
}
